{
 "cells": [
  {
   "cell_type": "code",
   "execution_count": 1,
   "id": "ffa6abf4",
   "metadata": {},
   "outputs": [
    {
     "name": "stdout",
     "output_type": "stream",
     "text": [
      " * Serving Flask app '__main__'\n",
      " * Debug mode: on\n"
     ]
    },
    {
     "name": "stderr",
     "output_type": "stream",
     "text": [
      "WARNING: This is a development server. Do not use it in a production deployment. Use a production WSGI server instead.\n",
      " * Running on http://127.0.0.1:5000\n",
      "Press CTRL+C to quit\n",
      " * Restarting with watchdog (windowsapi)\n"
     ]
    },
    {
     "ename": "SystemExit",
     "evalue": "1",
     "output_type": "error",
     "traceback": [
      "An exception has occurred, use %tb to see the full traceback.\n",
      "\u001b[1;31mSystemExit\u001b[0m\u001b[1;31m:\u001b[0m 1\n"
     ]
    },
    {
     "name": "stderr",
     "output_type": "stream",
     "text": [
      "C:\\Users\\SUMANTH LAPTOP\\anaconda3\\Lib\\site-packages\\IPython\\core\\interactiveshell.py:3534: UserWarning: To exit: use 'exit', 'quit', or Ctrl-D.\n",
      "  warn(\"To exit: use 'exit', 'quit', or Ctrl-D.\", stacklevel=1)\n"
     ]
    }
   ],
   "source": [
    "import os\n",
    "import matplotlib.image as mpimg\n",
    "from flask import Flask, render_template, request, redirect \n",
    "from PIL import Image\n",
    "import io\n",
    "from inference import get_prediction\n",
    "from commons import format_class_name, transform_image\n",
    "\n",
    "import torch\n",
    "import torch.nn as nn\n",
    "import torch.nn.functional as F\n",
    "import torch.optim as optim\n",
    "from torchvision import datasets, transforms, models\n",
    "import pickle\n",
    "import time\n",
    "import json\n",
    "app = Flask(__name__)\n",
    "@app.route('/', methods=['GET', 'POST'])\n",
    "def upload_file():\n",
    "    if request.method == 'POST':\n",
    "        if 'file' not in request.files:\n",
    "            return redirect(request.url)\n",
    "        file = request.files.get('file')\n",
    "        if not file:\n",
    "           return\n",
    "        img_bytes = file.read()\n",
    "        file_tensor = transform_image(image_bytes=img_bytes) #######\n",
    "        class_name = get_prediction(file_tensor)\n",
    "        \n",
    "        if class_name== 'No DR':\n",
    "           return render_template('result.html', class_name=class_name, suggestion='You are good.')\n",
    "        if class_name== 'Mild DR':\n",
    "           return render_template('result.html', class_name=class_name, suggestion='You are ok.')\n",
    "        if class_name== 'Moderate DR':\n",
    "           return render_template('result.html', class_name=class_name, suggestion='Consult doctor.')\n",
    "        if class_name== 'Severe DR':\n",
    "           return render_template('result.html', class_name=class_name, suggestion='Consult doctor immediately.')\n",
    "        if class_name== 'Proliferative DR':\n",
    "           return render_template('result.html', class_name=class_name, suggestion=' Consult doctor immediately.')            \n",
    "        return render_template('result.html', class_name=class_name)\n",
    "    return render_template('index.html')\n",
    "\n",
    "if __name__ == '__main__':\n",
    "    app.run(debug=True, port=int(os.environ.get('PORT', 5000)))\n",
    "    \n"
   ]
  },
  {
   "cell_type": "code",
   "execution_count": null,
   "id": "1594dc87",
   "metadata": {},
   "outputs": [],
   "source": []
  }
 ],
 "metadata": {
  "kernelspec": {
   "display_name": "Python 3 (ipykernel)",
   "language": "python",
   "name": "python3"
  },
  "language_info": {
   "codemirror_mode": {
    "name": "ipython",
    "version": 3
   },
   "file_extension": ".py",
   "mimetype": "text/x-python",
   "name": "python",
   "nbconvert_exporter": "python",
   "pygments_lexer": "ipython3",
   "version": "3.11.5"
  }
 },
 "nbformat": 4,
 "nbformat_minor": 5
}
